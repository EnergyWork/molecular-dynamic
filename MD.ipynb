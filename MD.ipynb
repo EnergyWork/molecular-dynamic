{
 "cells": [
  {
   "cell_type": "code",
   "execution_count": 1,
   "metadata": {},
   "outputs": [],
   "source": [
    "import numpy as np"
   ]
  },
  {
   "cell_type": "code",
   "execution_count": 2,
   "metadata": {},
   "outputs": [],
   "source": [
    "N = 10\n",
    "DIM = 3\n",
    "SIZE = 5\n",
    "L_FREE_MOTION = np.power(np.power(SIZE, 3), 1/3.0) / (2*N)\n",
    "dt = 0.001\n",
    "SPEED = 20\n",
    "eps = 1\n",
    "sigma = 1\n",
    "rcut = 2.5 * sigma\n",
    "rmin = 0.00001"
   ]
  },
  {
   "cell_type": "code",
   "execution_count": 3,
   "metadata": {},
   "outputs": [],
   "source": [
    "r = np.array([np.zeros([DIM]) for _ in np.arange(N)])\n",
    "dr = np.array([np.zeros([DIM]) for _ in np.arange(N)])\n",
    "v = np.array([np.zeros([DIM]) for _ in np.arange(N)])\n",
    "f = np.array([np.zeros([DIM]) for _ in np.arange(N)])\n",
    "m = np.array([np.zeros([DIM]) for _ in np.arange(N)])\n",
    "list_coords = np.array([])"
   ]
  },
  {
   "cell_type": "code",
   "execution_count": 4,
   "metadata": {},
   "outputs": [],
   "source": [
    "def new_frame(file_handle):\n",
    "    file_handle.write('frame\\n')\n",
    "\n",
    "def init_output_file():\n",
    "    with open('coords.txt', 'w', encoding='utf-8') as file:\n",
    "        new_frame(file)\n",
    "\n",
    "def print_to_file(time):\n",
    "    global v\n",
    "    global r\n",
    "    with open('coords.txt', 'a', encoding='utf-8') as file:\n",
    "        for i in np.arange(N):\n",
    "            strtofile = '{0} {1:.3} {2:.3} {3:.3}\\n'.format(time, r[i][0], r[i][1], r[i][2])\n",
    "            file.write(strtofile)\n",
    "        new_frame(file)"
   ]
  },
  {
   "cell_type": "code",
   "execution_count": 5,
   "metadata": {},
   "outputs": [],
   "source": [
    "def init_system():\n",
    "    global v\n",
    "    global r\n",
    "    global dr\n",
    "    global m\n",
    "    global list_coords\n",
    "    for i in np.arange(N):\n",
    "       v[i] =  np.array([((SPEED - (-SPEED)) * np.random.random() + (-SPEED)) for _ in np.arange(DIM)])\n",
    "    k = np.ceil(np.power(N, 1.0 / 3))\n",
    "    dh = SIZE / k\n",
    "    m = np.ones(N)\n",
    "    counter = 0\n",
    "    for x in np.arange(k):\n",
    "        for y in np.arange(k):\n",
    "            for z in np.arange(k):\n",
    "                if counter < N:\n",
    "                    r[counter] = np.array([(x + 1.0 / 2) * dh, (y + 1.0 / 2) * dh, (z + 1.0 / 2) * dh])\n",
    "                    dr[counter] = np.array([ v[counter][0] * 2 * dt, v[counter][1] * 2 * dt, v[counter][2] * 2 * dt])\n",
    "                    counter += 1\n",
    "    list_coords = np.append(list_coords, r)\n",
    "    print_to_file(0)"
   ]
  },
  {
   "cell_type": "code",
   "execution_count": 6,
   "metadata": {},
   "outputs": [],
   "source": [
    "def force_LD(r):\n",
    "    if r > rcut:\n",
    "        return 0\n",
    "    if r < rmin:\n",
    "        return force_LD(rmin)\n",
    "    x = sigma / r\n",
    "    return -48 *  eps / sigma * (np.power(x, 13, dtype=np.float64) - 0.5 * np.power(x, 7, dtype=np.float64))\n",
    "\n",
    "def potential_LD(r):\n",
    "    if r > rcut:\n",
    "        return 0\n",
    "    if r < rmin:\n",
    "        return potential_LD(rmin)\n",
    "    x = sigma / r\n",
    "    return 4 * eps * (np.power(x, 12, dtype = np.float64) - np.power(x, 6, dtype = np.float64))"
   ]
  },
  {
   "cell_type": "code",
   "execution_count": 7,
   "metadata": {},
   "outputs": [],
   "source": [
    "def verle_r(r, dr, f, m, dt): \n",
    "    return r + (dr + (f / (2 * m)) * np.square(dt))\n",
    "\n",
    "def verle_v(r, dr, dt):\n",
    "    return dr / (2 * dt)"
   ]
  },
  {
   "cell_type": "code",
   "execution_count": 8,
   "metadata": {},
   "outputs": [],
   "source": [
    "# nearist image method\n",
    "def nim(r1, r2, size):\n",
    "    x = -(r1[0] - r2[0])\n",
    "    y = -(r1[1] - r2[1])\n",
    "    z = -(r1[2] - r2[2])\n",
    "\n",
    "    dist = np.zeros(DIM)\n",
    "    dist[0] = nim_fix(x)\n",
    "    dist[1] = nim_fix(y)\n",
    "    dist[2] = nim_fix(z)\n",
    "\n",
    "    return np.array([x, y, z]) #dist\n",
    "\n",
    "def nim_fix(coord):\n",
    "    if coord >= SIZE / 2.0:\n",
    "        coord = SIZE - coord\n",
    "    elif coord <= -SIZE / 2.0:\n",
    "        coord = coord + SIZE\n",
    "    return coord"
   ]
  },
  {
   "cell_type": "code",
   "execution_count": 9,
   "metadata": {},
   "outputs": [],
   "source": [
    "def lenght(r):\n",
    "    return np.sqrt(np.sum([np.square(r[i]) for i in np.arange(np.size(r))]))\n",
    "\n",
    "def normalaize(vec):\n",
    "    return vec/lenght(vec)"
   ]
  },
  {
   "cell_type": "code",
   "execution_count": 10,
   "metadata": {},
   "outputs": [],
   "source": [
    "def calc_forces():\n",
    "    global v\n",
    "    global r\n",
    "    global v\n",
    "    global f\n",
    "    for i in np.arange(N):\n",
    "        f[i] = np.zeros(DIM)\n",
    "        for j in np.arange(N):\n",
    "            if i != j:\n",
    "                rij = nim(r[i], r[j], SIZE)\n",
    "                _rij = lenght(rij)\n",
    "                ff = force_LD(_rij)\n",
    "                _dr = rij\n",
    "                _dr = normalaize(_dr)\n",
    "                f[i] += _dr * ff"
   ]
  },
  {
   "cell_type": "code",
   "execution_count": 11,
   "metadata": {},
   "outputs": [],
   "source": [
    "def correct_coord(coord, left_boundary, right_boundary):\n",
    "    l = right_boundary - left_boundary\n",
    "    d = 0\n",
    "    if coord >= right_boundary:\n",
    "        d = coord - left_boundary\n",
    "        coord = coord - l * np.floor(d / l)\n",
    "    elif coord < left_boundary:\n",
    "        d = left_boundary - coord\n",
    "        coord = right_boundary - l * (d / l - np.floor(d / l))\n",
    "    return coord\n",
    "\n",
    "#periodic  boundary condition\n",
    "def pbc(r, size):\n",
    "    r[0] = correct_coord(r[0], 0, size)\n",
    "    r[1] = correct_coord(r[1], 0, size)\n",
    "    r[2] = correct_coord(r[2], 0, size)"
   ]
  },
  {
   "cell_type": "code",
   "execution_count": 12,
   "metadata": {},
   "outputs": [],
   "source": [
    "def integrate():\n",
    "    global v\n",
    "    global r\n",
    "    global dr\n",
    "    co = 0\n",
    "    for i in np.arange(N):\n",
    "        r_tmp = r[i].copy()\n",
    "        r[i] = verle_r(r[i], dr[i], f[i], m[i], dt)\n",
    "        dr[i] = r[i] - r_tmp\n",
    "        if lenght(dr[i]) > L_FREE_MOTION:\n",
    "            return False\n",
    "        v[i] = verle_v(r[i], dr[i], dt)\n",
    "        pbc(r[i], SIZE)\n",
    "    return True"
   ]
  },
  {
   "cell_type": "code",
   "execution_count": 13,
   "metadata": {},
   "outputs": [],
   "source": [
    "def main():\n",
    "    global list_coords\n",
    "    steps = 100\n",
    "    init_output_file()\n",
    "    init_system()\n",
    "    for i in np.arange(1, steps+1):\n",
    "        calc_forces()\n",
    "        if not integrate():\n",
    "            print('too large move, process stoped on', i,'step')\n",
    "            #return\n",
    "        list_coords = np.append(list_coords, r)\n",
    "        print_to_file(i)"
   ]
  },
  {
   "cell_type": "code",
   "execution_count": 14,
   "metadata": {},
   "outputs": [],
   "source": [
    "main()\n",
    "np.savetxt('crds.txt', list_coords, fmt='%f')"
   ]
  },
  {
   "cell_type": "code",
   "execution_count": 15,
   "metadata": {},
   "outputs": [
    {
     "name": "stdout",
     "output_type": "stream",
     "text": [
      "[0. 0. 0.]\n",
      "[0.53184021 0.64777139 0.03873213]\n",
      "[0.53184021 0.64777139 0.03873213]\n"
     ]
    }
   ],
   "source": [
    "a = np.zeros(3)\n",
    "b = np.random.rand(3)\n",
    "print(a, b, sep='\\n')\n",
    "a = b.copy()\n",
    "print(a)"
   ]
  }
 ],
 "metadata": {
  "anaconda-cloud": {},
  "kernelspec": {
   "display_name": "Python 3",
   "language": "python",
   "name": "python3"
  },
  "language_info": {
   "codemirror_mode": {
    "name": "ipython",
    "version": 3
   },
   "file_extension": ".py",
   "mimetype": "text/x-python",
   "name": "python",
   "nbconvert_exporter": "python",
   "pygments_lexer": "ipython3",
   "version": "3.8.5"
  }
 },
 "nbformat": 4,
 "nbformat_minor": 1
}
